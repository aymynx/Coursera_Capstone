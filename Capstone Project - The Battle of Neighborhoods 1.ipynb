{
    "cells": [
        {
            "cell_type": "markdown",
            "metadata": {
                "collapsed": true
            },
            "source": "# **Capstone Project - The Battle of Neighborhoods 1**"
        },
        {
            "cell_type": "markdown",
            "metadata": {},
            "source": "## 1. Introduction to the problem"
        },
        {
            "cell_type": "markdown",
            "metadata": {},
            "source": "### 1.1. Background discussion"
        },
        {
            "cell_type": "markdown",
            "metadata": {},
            "source": "Toronto, city, capital of the province of Ontario, southeastern Canada. It is the most populous city in Canada, the fourth most populous city in North America, ranked 13th among 2020's 100 world best cities, a multicultural city, and the country\u2019s financial and commercial centre. Its location on the northwestern shore of Lake Ontario, which forms part of the border between Canada and the United States, and its access to Atlantic shipping via the St. Lawrence Seaway and to major U.S. industrial centres via the Great Lakes have enabled Toronto to become an important international trading centre."
        },
        {
            "cell_type": "markdown",
            "metadata": {},
            "source": "### 1.2. Description of the problem"
        },
        {
            "cell_type": "markdown",
            "metadata": {},
            "source": "Nathan Anderson is a canadian chef and owner of a restaurant which serves frensh authentic meals. In vacation to Rabat and after giving the Moroccan cuisine a taste, Nathan got interested into the mediterranean cuisine, Nathan thought about opening a Moroccan restaurant that serves mediterranean meals but didn't know from where to start and he was busy, in order to buy him  a lot of time he hired you, a data scientist, to do a complete analysis of opening a Moroccan restaurant in Toronto and to report back to him what places and locations may have a high potential of opening his new restaurant at."
        },
        {
            "cell_type": "markdown",
            "metadata": {},
            "source": "### 1.3. Targeted audience"
        },
        {
            "cell_type": "markdown",
            "metadata": {},
            "source": "For this project the targeted audience could be anything from an individuel willing to invest in cuisines by starting up a restaurant to a business group willing to expand their restaurants chain, or someone's interested to improve their busisiness' proficiey."
        },
        {
            "cell_type": "markdown",
            "metadata": {},
            "source": "## 2. Data required"
        },
        {
            "cell_type": "markdown",
            "metadata": {},
            "source": "* List of postal codes from Toronto : we need information about different boroughs and their neighborhoods in Toronto\n* Geographical coordinates of Toronto's neighborhoods: we will use this dataset to get information about coordinates of Toronto's neighborhoods\n* Other Moroccan restaurants in each neighborhood: we will use FoursquareAPI to get venues in different neighborhoods in Toronto with Moroccan restaurants\n* Toronto GeoJSON file : we will use this file to create choropleth maps for Toronto using Folium\n* Immigration and ethnocultural diversity statistics : we will use this information to create population density choropleth maps using Folium"
        },
        {
            "cell_type": "code",
            "execution_count": null,
            "metadata": {},
            "outputs": [],
            "source": ""
        }
    ],
    "metadata": {
        "kernelspec": {
            "display_name": "Python 3.7",
            "language": "python",
            "name": "python3"
        },
        "language_info": {
            "codemirror_mode": {
                "name": "ipython",
                "version": 3
            },
            "file_extension": ".py",
            "mimetype": "text/x-python",
            "name": "python",
            "nbconvert_exporter": "python",
            "pygments_lexer": "ipython3",
            "version": "3.7.10"
        }
    },
    "nbformat": 4,
    "nbformat_minor": 1
}