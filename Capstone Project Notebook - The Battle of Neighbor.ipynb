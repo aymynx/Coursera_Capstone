{
    "cells": [
        {
            "metadata": {},
            "cell_type": "markdown",
            "source": "# Capstone Project Notebook - The Battle of Neighborhoods"
        },
        {
            "metadata": {},
            "cell_type": "markdown",
            "source": "Importing required required dependencies"
        },
        {
            "metadata": {
                "scrolled": true
            },
            "cell_type": "code",
            "source": "!conda install -c conda-forge folium=0.5.0 --yes\nimport pandas as pd\nimport numpy as np\nfrom pandas.io.json import json_normalize \nfrom bs4 import BeautifulSoup \nimport requests \nimport json\nimport seaborn as sns\nimport matplotlib.pyplot as plt\nimport folium \nfrom folium import plugins\nimport matplotlib.cm as cm\nimport matplotlib.colors as col\nfrom geopy.geocoders import Nominatim \nfrom sklearn.cluster import DBSCAN\nfrom sklearn.neighbors import NearestNeighbors\nimport sklearn.utils\nfrom sklearn.preprocessing import StandardScaler",
            "execution_count": null,
            "outputs": [
                {
                    "output_type": "stream",
                    "text": "Collecting package metadata (current_repodata.json): / ",
                    "name": "stdout"
                }
            ]
        },
        {
            "metadata": {},
            "cell_type": "markdown",
            "source": "Scraping the list of postal codes of Toronto and creating our first dataframe"
        },
        {
            "metadata": {},
            "cell_type": "code",
            "source": "url = 'https://en.wikipedia.org/w/index.php?title=List_of_postal_codes_of_Canada:_M&oldid=945633050'\ndata = requests.get(url).text\nsoup = BeautifulSoup(data, 'lxml')\ntable = soup.find('table', {'class': 'wikitable sortable'})\ncolumns_name = ['PostalCode', 'Borough', 'Neighborhood']\ndf = pd.DataFrame(columns = columns_name)\ndf",
            "execution_count": null,
            "outputs": []
        },
        {
            "metadata": {},
            "cell_type": "markdown",
            "source": "Filling the dataframe with the data we scraped from Wikipedia"
        },
        {
            "metadata": {},
            "cell_type": "code",
            "source": "for row in table.find_all('tr'):\n    row_data=[]\n    for data in row.find_all('td'):\n        row_data.append(data.text.strip())\n    if len(row_data)==3:\n        df.loc[len(df)] = row_data",
            "execution_count": null,
            "outputs": []
        },
        {
            "metadata": {},
            "cell_type": "markdown",
            "source": "Here's what the dataframe looks like now"
        },
        {
            "metadata": {
                "scrolled": true
            },
            "cell_type": "code",
            "source": "df.head(10)",
            "execution_count": null,
            "outputs": []
        },
        {
            "metadata": {},
            "cell_type": "markdown",
            "source": "Removing 'Not assigned' values from the Borough column"
        },
        {
            "metadata": {
                "scrolled": true
            },
            "cell_type": "code",
            "source": "de = df [df['Borough'] == 'Not assigned'].index\ndf.drop(de, inplace=True)\ndf.loc[df['Neighborhood'] =='Not assigned' , 'Neighborhood'] = df['Borough']\nr_df = df.groupby(['PostalCode', 'Borough'], sort=False).agg(', '.join)\ndf = r_df.reset_index()\ndf.head(10)",
            "execution_count": null,
            "outputs": []
        },
        {
            "metadata": {},
            "cell_type": "markdown",
            "source": "Reading a csv file locally stored in IBM cloud, the file contains geospatial coordinates of Toronto"
        },
        {
            "metadata": {},
            "cell_type": "code",
            "source": "import os, types\nimport pandas as pd\nfrom botocore.client import Config\nimport ibm_boto3\ndef __iter__(self): return 0\nif os.environ.get('RUNTIME_ENV_LOCATION_TYPE') == 'external':\n    endpoint_45422a1df12848e1b6dd8cefeb73dedf = 'https://s3.eu.cloud-object-storage.appdomain.cloud'\nelse:\n    endpoint_45422a1df12848e1b6dd8cefeb73dedf = 'https://s3.private.eu.cloud-object-storage.appdomain.cloud'\nclient_45422a1df12848e1b6dd8cefeb73dedf = ibm_boto3.client(service_name='s3',\n    ibm_api_key_id='JiLjohth3a9Ysr812SlPj99DbF-4nq0zLD4jc6WEn92s',\n    ibm_auth_endpoint=\"https://iam.cloud.ibm.com/oidc/token\",\n    config=Config(signature_version='oauth'),\n    endpoint_url=endpoint_45422a1df12848e1b6dd8cefeb73dedf)\nbody = client_45422a1df12848e1b6dd8cefeb73dedf.get_object(Bucket='courseracapstone-donotdelete-pr-wx2u4brhxefhzw',Key='Geospatial_Coordinates.csv')['Body']\nif not hasattr(body, \"__iter__\"): body.__iter__ = types.MethodType( __iter__, body )\ngeo = pd.read_csv(body)\ngeo.head(10)\n",
            "execution_count": null,
            "outputs": []
        },
        {
            "metadata": {},
            "cell_type": "markdown",
            "source": "Merging DF that contains Boroughs and Neighborhoods with GEO that contains geospatial coordinates"
        },
        {
            "metadata": {},
            "cell_type": "code",
            "source": "geo.columns = ['PostalCode', 'Latitude', 'Longitude']\nt_df = pd.merge(df, geo, on='PostalCode')\nt_df.head(10)",
            "execution_count": null,
            "outputs": []
        },
        {
            "metadata": {},
            "cell_type": "markdown",
            "source": "Scarping the GeoJSON file"
        },
        {
            "metadata": {},
            "cell_type": "code",
            "source": "url = 'https://ckan0.cf.opendata.inter.prod-toronto.ca/download_resource/a083c865-6d60-4d1d-b6c6-b0c8a85f9c15?format=geojson&projection=4326'\ngeo_toronto = requests.get(url).json()\ngeo_toronto",
            "execution_count": null,
            "outputs": []
        },
        {
            "metadata": {},
            "cell_type": "code",
            "source": "url_ward = 'https://ckan0.cf.opendata.inter.prod-toronto.ca/download_resource/7672dac5-b383-4d7c-90ec-291dc69d37bf?format=geojson&projection=4326'\nward_geo = requests.get(url_ward).json()\nward_geo",
            "execution_count": null,
            "outputs": []
        },
        {
            "metadata": {},
            "cell_type": "markdown",
            "source": "Defining my Foursquare credentials and version for the API request URL, then the Foursquare category"
        },
        {
            "metadata": {},
            "cell_type": "code",
            "source": "CLIENT_ID, CLIENT_SECRET = 'YH35RXLK42JP41JLWUREXE0MYACNNX4N21EQMGEKIEUWQBGS','PZIFJCHLXQ55S2Q0CSFKKSMHRYBDI4BOR5NMX2XFULU5C1QX'\nVERSION = '20180605' \nplc = '4bf58dd8d48988d1c3941735'",
            "execution_count": null,
            "outputs": []
        },
        {
            "metadata": {},
            "cell_type": "markdown",
            "source": "Defining a function that gets the category type"
        },
        {
            "metadata": {},
            "cell_type": "code",
            "source": "def get_category_type(row):\n    try:\n        ctg_list = row['categories']\n    except:\n        ctg_list = row['venue.categories']\n        \n    if len(ctg_list) == 0:\n        return None\n    else:\n        return ctg_list[0]['name']",
            "execution_count": null,
            "outputs": []
        },
        {
            "metadata": {},
            "cell_type": "markdown",
            "source": "Defining a function that obtains Moroccan restaurants of every Toronto neighbourhood"
        },
        {
            "metadata": {},
            "cell_type": "code",
            "source": "def getNearbyVenues(names, latitudes, longitudes, LIMIT = 300, radius = 2000, categoryId = plc):\n    venues_list = []\n    for name, lat, lng in zip(names, latitudes, longitudes):\n        print(name)\n        url = 'https://api.foursquare.com/v2/venues/explore?&client_id={}&client_secret={}&v={}&ll={},{}&radius={}&limit={}&categoryId={}'.format(\n            CLIENT_ID, \n            CLIENT_SECRET, \n            VERSION, \n            lat, \n            lng, \n            radius, \n            LIMIT,\n            categoryId)\n        results = requests.get(url).json()['response']['groups'][0]['items']\n        venues_list.append([(\n            name,\n            lat, \n            lng,\n            v['venue']['name'],\n            v['venue']['location']['lat'], \n            v['venue']['location']['lng'],  \n            v['venue']['categories'][0]['name']) for v in results])\n    nearby_venues = pd.DataFrame([item for venue_list in venues_list for item in venue_list])\n    nearby_venues.columns = ['Neighborhood',\n                  'Neighborhood Latitude', \n                  'Neighborhood Longitude', \n                  'Venue Name', \n                  'Venue Latitude', \n                  'Venue Longitude', \n                  'Venue Category']\n    \n    return(nearby_venues)",
            "execution_count": null,
            "outputs": []
        },
        {
            "metadata": {},
            "cell_type": "markdown",
            "source": "Storing the neighbourhoods in a new dataframe"
        },
        {
            "metadata": {},
            "cell_type": "code",
            "source": "nwm_df = getNearbyVenues(\n                                names = t_df['Neighborhood'],\n                                latitudes = t_df['Latitude'],\n                                longitudes = t_df['Longitude']\n                          )",
            "execution_count": null,
            "outputs": []
        },
        {
            "metadata": {},
            "cell_type": "markdown",
            "source": "Defining and setting up the coordinates of Toronto"
        },
        {
            "metadata": {},
            "cell_type": "code",
            "source": "address = 'Toronto, ON'\ngeolocator = Nominatim(user_agent=\"ny_explorer\")\nlocation = geolocator.geocode(address)\nlatitude = location.latitude\nlongitude = location.longitude",
            "execution_count": null,
            "outputs": []
        },
        {
            "metadata": {},
            "cell_type": "markdown",
            "source": "Importing neighbourhood profiles dataframe"
        },
        {
            "metadata": {},
            "cell_type": "code",
            "source": "body = client_45422a1df12848e1b6dd8cefeb73dedf.get_object(Bucket='courseracapstone-donotdelete-pr-wx2u4brhxefhzw',Key='neighbourhood-profiles-2016-csv.csv')['Body']\nif not hasattr(body, \"__iter__\"): body.__iter__ = types.MethodType( __iter__, body )\nneighbourhood_profiles = pd.read_csv(body)\nneighbourhood_profiles.head(10)",
            "execution_count": null,
            "outputs": []
        },
        {
            "metadata": {},
            "cell_type": "markdown",
            "source": "Locating the row with African origins' data"
        },
        {
            "metadata": {},
            "cell_type": "code",
            "source": "test = neighbourhood_profiles.iloc[[0,1138]].transpose().reset_index()\ntest.head(10)",
            "execution_count": null,
            "outputs": []
        },
        {
            "metadata": {},
            "cell_type": "markdown",
            "source": "Droping other unnecessary rows and renaming the columns and changing the data types of the Population and Neighbourhood Number columns"
        },
        {
            "metadata": {},
            "cell_type": "code",
            "source": "new_df = test.iloc[6:]\nnew_df.columns = ['Neighborhood','Neighbourhood Number','Population']\nnew_df = new_df.set_index('Neighborhood')[['Neighbourhood Number','Population']]\nnew_df['Population'] = new_df['Population'].replace(',','', regex = True).astype(float)\nnew_df['Neighbourhood Number'] = new_df['Neighbourhood Number'].astype(float)\nnew_df.head(10)",
            "execution_count": null,
            "outputs": []
        },
        {
            "metadata": {},
            "cell_type": "markdown",
            "source": "Scraping Business Improvement Areas data"
        },
        {
            "metadata": {},
            "cell_type": "code",
            "source": "url = 'https://ckan0.cf.opendata.inter.prod-toronto.ca/download_resource/d173e644-ace0-45e0-be43-8ba02fb116eb?format=geojson&projection=4326'\ngeo_area = requests.get(url).json()",
            "execution_count": null,
            "outputs": []
        },
        {
            "metadata": {},
            "cell_type": "markdown",
            "source": "Creating a dataframe which contains number of neighborhoods for each borough"
        },
        {
            "metadata": {},
            "cell_type": "code",
            "source": "nn = t_df.groupby('Borough')['Neighborhood'].count().sort_values(ascending=False).to_frame()\nnn",
            "execution_count": null,
            "outputs": []
        },
        {
            "metadata": {},
            "cell_type": "markdown",
            "source": "Setting up a plot that represents the above dataframe"
        },
        {
            "metadata": {},
            "cell_type": "code",
            "source": "sns.set_style('whitegrid')\nsns.set_palette('Dark2')\nnn.plot(kind='bar', figsize=(20,10), color=(0.2, 0.4, 0.6, 0.6))\nplt.ylabel('Number of neighborhoods', size=25)\nplt.xlabel('Boroughs', size=25)\nplt.title('The number of neighborhoods for each borough', size=25)\nplt.xticks(rotation=45, size=15)\nplt.legend(fontsize=20)\nplt.show()",
            "execution_count": null,
            "outputs": []
        },
        {
            "metadata": {},
            "cell_type": "markdown",
            "source": "Now we create a map of Toronto and it's neighborhoods"
        },
        {
            "metadata": {},
            "cell_type": "code",
            "source": "toronto_map = folium.Map(location=[latitude, longitude], zoom_start=10)\nfor lat, lng, borough, neighborhood in zip(t_df['Latitude'], t_df['Longitude'], t_df['Borough'],\n                                          t_df['Neighborhood']):\n    label = '{}, {}'.format(neighborhood, borough)\n    label = folium.Popup(label, parse_html=True)\n    folium.CircleMarker(\n    [lat, lng],\n    radius=5,\n    popup=label,\n    color=(0.2, 0.4, 0.6),\n    fill=True,\n    fill_color='purple',\n    fill_opacity=0.6,\n    parse_html=False).add_to(toronto_map)\ntoronto_map",
            "execution_count": null,
            "outputs": []
        },
        {
            "metadata": {},
            "cell_type": "markdown",
            "source": "Let's get back to our dataframe tha contains population and neighbourhood number data"
        },
        {
            "metadata": {},
            "cell_type": "code",
            "source": "new_df.head(10)",
            "execution_count": null,
            "outputs": []
        },
        {
            "metadata": {},
            "cell_type": "markdown",
            "source": "Let's make a new dataframe out of it that contains the population of African origins of each neighborhood "
        },
        {
            "metadata": {},
            "cell_type": "code",
            "source": "nd_gp = new_df.groupby('Neighborhood')['Population'].sum().sort_values(ascending=False).to_frame()\nnd_gp",
            "execution_count": null,
            "outputs": []
        },
        {
            "metadata": {},
            "cell_type": "markdown",
            "source": "And make a new dataframe that contains neighborhoods populated with more than 1000 African origin"
        },
        {
            "metadata": {},
            "cell_type": "code",
            "source": "africa_top = nd_gp[nd_gp['Population'] > 1000]\nat = africa_top.head(10)\nafrica_top",
            "execution_count": null,
            "outputs": []
        },
        {
            "metadata": {},
            "cell_type": "markdown",
            "source": "Let's turn it into a plot of it's top 10 of the most populated"
        },
        {
            "metadata": {},
            "cell_type": "code",
            "source": "sns.set_style('white')\nsns.set_context('poster')\nat.plot(kind='bar', figsize=(25,10), color=(0.2, 0.4, 0.6, 0.6))\nplt.xlabel('Neighborhood', size=25)\nplt.ylabel('Population', size=25)\nplt.title('10 most populated African origins neighborhoods in Toronto', size=25)\nplt.xticks(rotation=45, size=25)\nplt.yticks(size=20)\nplt.yticks(size=25)\nplt.show()",
            "execution_count": null,
            "outputs": []
        },
        {
            "metadata": {},
            "cell_type": "code",
            "source": "africa_bot = nd_gp[nd_gp['Population'] <= 105]\nafrica_bot",
            "execution_count": null,
            "outputs": []
        },
        {
            "metadata": {},
            "cell_type": "markdown",
            "source": "same thing here but for the least populated"
        },
        {
            "metadata": {},
            "cell_type": "code",
            "source": "sns.set_style('white')\nsns.set_context('poster')\nafrica_bot.plot(kind='bar', figsize=(25,10), color=(0.2, 0.4, 0.6, 0.6))\nplt.xlabel('Neighborhoods', size=25)\nplt.ylabel('Population', size=25)\nplt.title('10 least populated African origins neighborhoods in Toronto', size=25)\nplt.xticks(rotation=45, size=25)\nplt.yticks(size=20)\nplt.yticks(size=25)\nplt.show()",
            "execution_count": null,
            "outputs": []
        },
        {
            "metadata": {},
            "cell_type": "markdown",
            "source": "After exploring the population, let's explore the restaurants so let's get back to our neighborhood dataframe"
        },
        {
            "metadata": {},
            "cell_type": "code",
            "source": "nwm_df.head(10)",
            "execution_count": null,
            "outputs": []
        },
        {
            "metadata": {
                "scrolled": true
            },
            "cell_type": "code",
            "source": "nwm_df.groupby('Venue Category')['Venue Category'].count().sort_values(ascending=False).to_frame()",
            "execution_count": null,
            "outputs": []
        },
        {
            "metadata": {},
            "cell_type": "markdown",
            "source": "Let's remove rows with other venue categories and keep the ones with Moroccan Restaurant category"
        },
        {
            "metadata": {},
            "cell_type": "code",
            "source": "nwm_df = nwm_df[nwm_df['Venue Category'] == 'Moroccan Restaurant']\nnwm_df.head(10)",
            "execution_count": null,
            "outputs": []
        },
        {
            "metadata": {},
            "cell_type": "markdown",
            "source": "Let's make a new dataframe to see how many Moroccan restaurants are in each Neighborhood"
        },
        {
            "metadata": {},
            "cell_type": "code",
            "source": "mrc_nh = nwm_df[['Neighborhood', 'Venue Name']].groupby(['Neighborhood']).size().reset_index(name='Number of Moroccan Restaurants')\nmrc_nh.sort_values('Number of Moroccan Restaurants', ascending=False, inplace=True)\nmrc_nh = mrc_nh.reset_index().drop('index', axis=1).set_index('Neighborhood')\nmrc_nh",
            "execution_count": null,
            "outputs": []
        },
        {
            "metadata": {},
            "cell_type": "markdown",
            "source": "Let's merge the above dataframe with our t_df which we previously created to contain data about Toronto"
        },
        {
            "metadata": {},
            "cell_type": "code",
            "source": "mrc = pd.merge(t_df, mrc_nh, how = 'right', on = ['Neighborhood'] )\nmrc",
            "execution_count": null,
            "outputs": []
        },
        {
            "metadata": {
                "scrolled": true
            },
            "cell_type": "code",
            "source": "mrc_boro = mrc[['Borough', 'Number of Moroccan Restaurants']].groupby(['Borough']).sum().sort_values('Number of Moroccan Restaurants', ascending=False)\nmrc_boro",
            "execution_count": null,
            "outputs": []
        },
        {
            "metadata": {},
            "cell_type": "markdown",
            "source": "Looks like Downtown Toronto has the most Moroccan Restaurants and follows it East Toronto and East York, let's make a map and see these's restaurants' concentration"
        },
        {
            "metadata": {
                "scrolled": true
            },
            "cell_type": "code",
            "source": "restaurants_map = folium.Map(location=[latitude,longitude], tiles='cartodbpositron', zoom_start=11)\nrestaurants_map.choropleth(\n    geo_data=geo_area,\n    data = new_df,\n    columns=['Neighbourhood Number','Population'],\n    key_on='feature.properties.AREA_SHORT_CODE',\n    line_weight = 0.2,\n    fill_color='YlOrBr',\n    fill_opacity= 0.3,\n    line_opacity= 0.2, \n    name = 'Choropleth Map of Neighborhoods')\nward_style = lambda x: {'fillColor': '#aeaeae', 'color': '#aeaeae','fillOpacity':'0.1'}\nfolium.GeoJson(\n    ward_geo,\n    style_function = ward_style,\n).add_to(restaurants_map)\nfor index,row in nwm_df.iterrows():\n    folium.CircleMarker(\n        [row[\"Venue Latitude\"], row[\"Venue Longitude\"]],\n        radius=5,\n        color='purple',\n        fill= True,\n        fill_color='purple',\n        fill_opacity= 0.1,\n        popup='Moroccan Restaurant',\n    ).add_to(restaurants_map)\nrestaurants_map",
            "execution_count": null,
            "outputs": []
        },
        {
            "metadata": {},
            "cell_type": "code",
            "source": "nwm_arr = nwm_df[['Venue Latitude', 'Venue Longitude']].values\nnwm_arr = nwm_arr.tolist()",
            "execution_count": null,
            "outputs": []
        },
        {
            "metadata": {},
            "cell_type": "markdown",
            "source": "Let's turn it into a heat map"
        },
        {
            "metadata": {
                "scrolled": true
            },
            "cell_type": "code",
            "source": "from folium import plugins\nfolium.plugins.HeatMap(nwm_arr, radius=15).add_to(restaurants_map)\nrestaurants_map",
            "execution_count": null,
            "outputs": []
        },
        {
            "metadata": {},
            "cell_type": "markdown",
            "source": "Now let's create a map for business improvement area"
        },
        {
            "metadata": {
                "scrolled": true
            },
            "cell_type": "code",
            "source": "business_improvement_map = folium.Map(location=[latitude,longitude], tiles='cartodbpositron', zoom_start=10)\nfor index,row in nwm_df.iterrows():\n    folium.CircleMarker(\n        [row[\"Venue Latitude\"], row[\"Venue Longitude\"]],\n        radius=5,\n        color='purple',\n        fill= True,\n        fill_color='purple',\n        fill_opacity= 0.1,\n        popup='Japanese Restaurant',\n    ).add_to(business_improvement_map)\nbusiness_improvement_map\nward_style = lambda x: {'fillColor': 'grey', 'color': 'grey','fillOpacity':'0.1'}\nfolium.GeoJson(\n    ward_geo,\n    style_function = ward_style\n).add_to(business_improvement_map)\narea_style = lambda x: {'fillColor': 'black', 'color': 'black','fillOpacity':'0.2'}\nfolium.GeoJson(\n    geo_area,\n    style_function = area_style,\n    name='Business Improvement Areas'\n).add_to(business_improvement_map)\nbusiness_improvement_map",
            "execution_count": null,
            "outputs": []
        },
        {
            "metadata": {},
            "cell_type": "markdown",
            "source": "Now let's prepare our data for DBSCAN "
        },
        {
            "metadata": {},
            "cell_type": "code",
            "source": "xs = np.asarray(nwm_df['Venue Latitude']) \nys = np.asarray(nwm_df['Venue Longitude'])",
            "execution_count": null,
            "outputs": []
        },
        {
            "metadata": {},
            "cell_type": "code",
            "source": "nwm_df['xm'] = xs.tolist()\nnwm_df['ym'] = ys.tolist()",
            "execution_count": null,
            "outputs": []
        },
        {
            "metadata": {},
            "cell_type": "code",
            "source": "cluster_data = nwm_df[['xm', 'ym']]\ncluster_data = np.nan_to_num(cluster_data)\ncluster_data",
            "execution_count": null,
            "outputs": []
        },
        {
            "metadata": {},
            "cell_type": "markdown",
            "source": "Now let's move to DBSCAN modeling"
        },
        {
            "metadata": {},
            "cell_type": "code",
            "source": "neigh = NearestNeighbors(n_neighbors=len(cluster_data))\nnbrs = neigh.fit(cluster_data)\ndistances, indices = nbrs.kneighbors(cluster_data)\ndistances.mean()",
            "execution_count": null,
            "outputs": []
        },
        {
            "metadata": {},
            "cell_type": "code",
            "source": "distances = np.sort(distances, axis=0)\ndistances",
            "execution_count": null,
            "outputs": []
        },
        {
            "metadata": {},
            "cell_type": "code",
            "source": "distances = distances[:,-1]",
            "execution_count": null,
            "outputs": []
        },
        {
            "metadata": {},
            "cell_type": "markdown",
            "source": "Let's graph the optimal Epsilon values"
        },
        {
            "metadata": {},
            "cell_type": "code",
            "source": "sns.set_style('whitegrid')\nsns.set_context('poster')\nsns.set_palette('Dark2')\nplt.figure(figsize=(20,8))\nplt.plot(distances)\nplt.scatter(x=25, y=0.225, color=(0.2, 0.4, 0.6, 0.6), marker='*')\nplt.title('Epsilon Value', size=20)\nplt.annotate('',\n            xy=(25, 0.224),\n            xytext=(30, 0.21),\n            xycoords='data',\n            arrowprops=dict(arrowstyle='<-', connectionstyle='arc3', color='red', lw=2))\nplt.annotate('Optimal Epsilon Value',\n             xy=(30, 0.205),\n             va='bottom',\n             ha='left',\n             fontsize=20\n            )",
            "execution_count": null,
            "outputs": []
        },
        {
            "metadata": {},
            "cell_type": "code",
            "source": "cluster_data = StandardScaler().fit_transform(cluster_data)",
            "execution_count": null,
            "outputs": []
        },
        {
            "metadata": {},
            "cell_type": "code",
            "source": "db = DBSCAN(eps=0.35, min_samples=6).fit(cluster_data)\nlabels = db.labels_\nlabels",
            "execution_count": null,
            "outputs": []
        },
        {
            "metadata": {},
            "cell_type": "code",
            "source": "core_samples_mask = np.zeros_like(db.labels_, dtype=bool)\ncore_samples_mask[db.core_sample_indices_] = True\nlabels = db.labels_\nnwm_df[\"Cluster_DB\"]=labels\n\nrealClusterNum=len(set(labels)) - (1 if -1 in labels else 0)\nclusterNum = len(set(labels))",
            "execution_count": null,
            "outputs": []
        },
        {
            "metadata": {},
            "cell_type": "code",
            "source": "nwm_df[['Neighborhood', 'Venue Name', 'Cluster_DB']]",
            "execution_count": null,
            "outputs": []
        },
        {
            "metadata": {},
            "cell_type": "code",
            "source": "set(labels)",
            "execution_count": null,
            "outputs": []
        },
        {
            "metadata": {},
            "cell_type": "code",
            "source": "nwm_df['Cluster_DB'] = nwm_df['Cluster_DB'].astype(int).tolist()\nk_clusters = nwm_df['Cluster_DB'].max() + 1 \nk_clusters",
            "execution_count": null,
            "outputs": []
        },
        {
            "metadata": {},
            "cell_type": "code",
            "source": "nwm_df.groupby('Cluster_DB')['Venue Name'].count().sort_values(ascending=False).to_frame()",
            "execution_count": null,
            "outputs": []
        },
        {
            "metadata": {},
            "cell_type": "markdown",
            "source": "Let's visualize the results"
        },
        {
            "metadata": {},
            "cell_type": "code",
            "source": "x = np.arange(k_clusters)\nys = [i + x + (i*x)**2 for i in range(k_clusters)]\ncolors_array = cm.tab20(np.linspace(0, 1, len(ys)))\nrainbow = [col.rgb2hex(i) for i in colors_array]\ndb_map = folium.Map(location=[latitude, longitude], zoom_start=10)\nfor lat, lon, neigh, cluster in zip(nwm_df['Venue Latitude'], nwm_df['Venue Longitude'],\n                                    nwm_df['Neighborhood'], nwm_df['Cluster_DB']):\n    label = folium.Popup(str(neigh) + ' Cluster ' + str(cluster), parse_html=True)\n    folium.CircleMarker(\n        [lat, lon],\n        radius=5,\n        popup=label,\n        color = 'purple',\n        fill=True,\n        fill_color=rainbow[cluster-0],\n        fill_opacity=0.7).add_to(db_map)\ndb_map",
            "execution_count": null,
            "outputs": []
        },
        {
            "metadata": {},
            "cell_type": "markdown",
            "source": "Let's improve the looks"
        },
        {
            "metadata": {
                "scrolled": true
            },
            "cell_type": "code",
            "source": "x = np.arange(k_clusters)\nys = [i + x + (i*x)**2 for i in range(k_clusters)]\ncolors_array = cm.tab20(np.linspace(0, 1, len(ys)))\nrainbow = [col.rgb2hex(i) for i in colors_array]\nbusiness_improvement_map.choropleth(\n    geo_data=geo_toronto,\n    data = new_df,\n    columns=['Neighbourhood Number','Population'],\n    key_on='feature.properties.AREA_SHORT_CODE',\n    line_weight = 0.2,\n    fill_color='YlOrBr',\n    fill_opacity= 0.3,\n    line_opacity= 0.2, \n    legend_name='Population of African origins',\n    name = 'Choropleth Map of Neighborhoods 140')\nfor lat, lon, neigh, cluster in zip(nwm_df['Venue Latitude'], nwm_df['Venue Longitude'],\n                                    nwm_df['Neighborhood'], nwm_df['Cluster_DB']):\n    label = folium.Popup(str(neigh) + ' Cluster ' + str(cluster), parse_html=True)\n    folium.CircleMarker(\n        [lat, lon],\n        radius=5,\n        popup=label,\n        color='purple',\n        fill=True,\n        fill_color=rainbow[cluster-0],\n        fill_opacity=0.7).add_to(business_improvement_map)\nbusiness_improvement_map",
            "execution_count": null,
            "outputs": []
        },
        {
            "metadata": {},
            "cell_type": "markdown",
            "source": "We can notice 3 locations that can be considered candidates to have a new successful Moroccan restaurant:\n* First Canadian Place, Underground city\n* Alderwood, Long Branch\n* Maryvale, Wexford"
        }
    ],
    "metadata": {
        "kernelspec": {
            "name": "python3",
            "display_name": "Python 3.7",
            "language": "python"
        },
        "language_info": {
            "name": "python",
            "version": "3.7.10",
            "mimetype": "text/x-python",
            "codemirror_mode": {
                "name": "ipython",
                "version": 3
            },
            "pygments_lexer": "ipython3",
            "nbconvert_exporter": "python",
            "file_extension": ".py"
        }
    },
    "nbformat": 4,
    "nbformat_minor": 1
}